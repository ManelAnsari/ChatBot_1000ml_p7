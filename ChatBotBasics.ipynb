{
  "nbformat": 4,
  "nbformat_minor": 0,
  "metadata": {
    "colab": {
      "name": "ChatBotBasics.ipynb",
      "provenance": []
    },
    "kernelspec": {
      "name": "python3",
      "display_name": "Python 3"
    }
  },
  "cells": [
    {
      "cell_type": "markdown",
      "metadata": {
        "id": "DqjE3OfZlceX",
        "colab_type": "text"
      },
      "source": [
        "# Project Needs\n",
        "\n",
        "1. Understand how to use NER (Named Entity Recognition)\n",
        "  * Will need this to pull out places and times of trips\n",
        "  * Also need to develop way to extract the customers desired price range \n",
        "2. Work on building a basic chatbot in python to help build understanding\n",
        "3. Figure out how text can be scraped from websites for these purposes.\n",
        "4. Pull some training data from different websites. Examples include:\n",
        "  * Twitter/Instagram/Facebook\n",
        "  * Wikipedia\n",
        "  * Travel websites\n",
        "5. Will need to find some sort of database from which the chat bot can offer solutions and trips to customers for the information given.\n",
        "\n"
      ]
    },
    {
      "cell_type": "markdown",
      "metadata": {
        "id": "nGvaBdgolMxh",
        "colab_type": "text"
      },
      "source": [
        "# Start with exploring NLP"
      ]
    },
    {
      "cell_type": "code",
      "metadata": {
        "id": "PsrCyk_UnFaQ",
        "colab_type": "code",
        "colab": {}
      },
      "source": [
        ""
      ],
      "execution_count": 0,
      "outputs": []
    }
  ]
}