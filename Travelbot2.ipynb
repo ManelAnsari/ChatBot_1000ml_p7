{
 "cells": [
  {
   "cell_type": "markdown",
   "metadata": {},
   "source": [
    "## Imports"
   ]
  },
  {
   "cell_type": "code",
   "execution_count": 1,
   "metadata": {},
   "outputs": [
    {
     "name": "stderr",
     "output_type": "stream",
     "text": [
      "[nltk_data] Downloading package punkt to /home/karl/nltk_data...\n",
      "[nltk_data]   Package punkt is already up-to-date!\n",
      "[nltk_data] Downloading package wordnet to /home/karl/nltk_data...\n",
      "[nltk_data]   Package wordnet is already up-to-date!\n",
      "[nltk_data] Downloading package stopwords to /home/karl/nltk_data...\n",
      "[nltk_data]   Package stopwords is already up-to-date!\n"
     ]
    }
   ],
   "source": [
    "path='data/'\n",
    "#import colab_env\n",
    "import os\n",
    "import datetime\n",
    "from time import strptime\n",
    "from dotenv import load_dotenv\n",
    "load_dotenv(dotenv_path='')\n",
    "# The API\n",
    "from amadeus import Client, ResponseError\n",
    "\n",
    "# This library can extract dates from text\n",
    "import dateutil.parser as dparser\n",
    "\n",
    "# We'll need the following nltk packages\n",
    "import nltk\n",
    "nltk.download('punkt')\n",
    "nltk.download('wordnet')\n",
    "\n",
    "# We'll use lemmas instead of stems.\n",
    "from nltk.stem import WordNetLemmatizer\n",
    "lemmatizer = WordNetLemmatizer()\n",
    "\n",
    "# We will tag the parts of the speech \n",
    "from nltk.tag import pos_tag\n",
    "\n",
    "# Get the stop words\n",
    "from nltk.corpus import stopwords\n",
    "nltk.download('stopwords')\n",
    "\n",
    "# We'll need json to open a file of intents\n",
    "import json\n",
    "\n",
    "# We will need to save the model\n",
    "import pickle\n",
    "\n",
    "# Some helper libraries\n",
    "import numpy as np\n",
    "import pandas as pd\n",
    "import random\n",
    "import re\n",
    "\n",
    "# We'll need these to actually create a machine learning model.\n",
    "from keras.models import Sequential\n",
    "from keras.layers import Dense, Activation, Dropout\n",
    "from keras.optimizers import SGD, Adagrad, Adam, Adadelta\n",
    "\n",
    "# We may need to try out a grid search\n",
    "from sklearn.model_selection import GridSearchCV\n",
    "\n",
    "# We'll need this for the in-code tagging of words\n",
    "import spacy\n",
    "from spacy import displacy\n",
    "from collections import Counter\n",
    "import en_core_web_sm\n",
    "nlp = en_core_web_sm.load()\n",
    "from spacy.matcher import Matcher\n",
    "\n",
    "from chatterbot import ChatBot\n",
    "from chatterbot.trainers import ListTrainer\n",
    "from chatterbot.trainers import ChatterBotCorpusTrainer"
   ]
  },
  {
   "cell_type": "markdown",
   "metadata": {},
   "source": [
    "## Training Data"
   ]
  },
  {
   "cell_type": "code",
   "execution_count": 2,
   "metadata": {},
   "outputs": [],
   "source": [
    "# Greetings\n",
    "hellos = [['Hello!','Hi there'],\n",
    "          ['Hi there','Hello!'],\n",
    "          ['Greetings','Hey'],\n",
    "          ['Hey','Oh hey!'],\n",
    "          ['Good morning','Good morning'],\n",
    "          ['Good evening','Good evening'],\n",
    "          ['Hey there!','Well hello there']\n",
    "         ]\n",
    "\n",
    "# Farewells\n",
    "byes = [['Bye','Goodbye!'],\n",
    "        ['See ya','Good bye!'],\n",
    "        ['Have a good night','You as well, goodbye!'],\n",
    "        ['Farewell','Later!'],\n",
    "        ['Goodbye!', 'Bye for now!']\n",
    "       ]"
   ]
  },
  {
   "cell_type": "code",
   "execution_count": 3,
   "metadata": {},
   "outputs": [],
   "source": [
    "convo1=[\"I would like to book a flight.\",\n",
    "        \"I can help you with that. Where are you traveling to?\",\n",
    "        \"I am traveling to Singapore.\",\n",
    "        \"What date will you be traveling?\",\n",
    "        \"I want to fly on June 14th.\",\n",
    "        \"When would you like to return?\"]\n",
    "\n",
    "convo2=['I want to buy a plane ticket.',\n",
    "        'I can help you make your reservation. What is your destination?',\n",
    "        'My final destination is Sydney, Australia.',\n",
    "        'What is your travel date?',\n",
    "        'I am making a reservation for December 12th.',\n",
    "        'Fantastic, when will you need to come back?']\n",
    "\n",
    "convo3=['I need to make a plane reservation.',\n",
    "        'We can book your trip right now. What city are you flying to?',\n",
    "        'I need to fly to New York City.',\n",
    "        'What date would you like me to book this plane ticket(s) for?',\n",
    "        'I need a flight on July 4th.',\n",
    "        \"Awesome, when do you think you'd like to return?\"]\n",
    "\n",
    "convo4=['I want to take a vacation',\n",
    "        'We can help you with that! What were you thinking?',\n",
    "        'I was thinking Dominica.',\n",
    "        'When would you like to leave?',\n",
    "        'I need a flight on March 3rd.',\n",
    "        \"Let's get booking then! I'll need your return date.\"]\n",
    "convo5=['I need a goddamn vacation',\n",
    "        'Where do you come from, where do you go? Where are you coming from, Cotton Eyed Joe?',\n",
    "        \"That was random, but I think I'll check out London\",\n",
    "        \"Radical, let's get to booking! When did you want to leave?\",\n",
    "        \"Probably this week, June 29th, 2020\",\n",
    "        \"Excellent, I only have a few more questions for you.\"\n",
    "        ]\n",
    "\n",
    "convos = [convo1,convo2,convo3, convo4, convo5]"
   ]
  },
  {
   "cell_type": "markdown",
   "metadata": {},
   "source": [
    "## Training the Bot"
   ]
  },
  {
   "cell_type": "code",
   "execution_count": 4,
   "metadata": {},
   "outputs": [
    {
     "name": "stderr",
     "output_type": "stream",
     "text": [
      "[nltk_data] Downloading package averaged_perceptron_tagger to\n",
      "[nltk_data]     /home/karl/nltk_data...\n",
      "[nltk_data]   Package averaged_perceptron_tagger is already up-to-\n",
      "[nltk_data]       date!\n",
      "[nltk_data] Downloading package punkt to /home/karl/nltk_data...\n",
      "[nltk_data]   Package punkt is already up-to-date!\n",
      "[nltk_data] Downloading package stopwords to /home/karl/nltk_data...\n",
      "[nltk_data]   Package stopwords is already up-to-date!\n"
     ]
    }
   ],
   "source": [
    "# We will first train the bot with the lists of data we've given it above.\n",
    "chatbot = ChatBot('Traveller',logic_adapters=[\"chatterbot.logic.BestMatch\"])\n",
    "travel_listtrainer = ListTrainer(chatbot)"
   ]
  },
  {
   "cell_type": "code",
   "execution_count": 5,
   "metadata": {},
   "outputs": [
    {
     "name": "stdout",
     "output_type": "stream",
     "text": [
      "List Trainer: [####################] 100%\n",
      "List Trainer: [####################] 100%\n",
      "List Trainer: [####################] 100%\n",
      "List Trainer: [####################] 100%\n",
      "List Trainer: [####################] 100%\n",
      "List Trainer: [####################] 100%\n",
      "List Trainer: [####################] 100%\n",
      "List Trainer: [####################] 100%\n",
      "List Trainer: [####################] 100%\n",
      "List Trainer: [####################] 100%\n",
      "List Trainer: [####################] 100%\n",
      "List Trainer: [####################] 100%\n",
      "List Trainer: [####################] 100%\n",
      "List Trainer: [####################] 100%\n",
      "List Trainer: [####################] 100%\n",
      "List Trainer: [####################] 100%\n",
      "List Trainer: [####################] 100%\n"
     ]
    }
   ],
   "source": [
    "for convo in convos:\n",
    "    travel_listtrainer.train(convo)\n",
    "\n",
    "for hi in hellos:\n",
    "    travel_listtrainer.train(hi)\n",
    "\n",
    "for bye in byes:\n",
    "    travel_listtrainer.train(bye)"
   ]
  },
  {
   "cell_type": "code",
   "execution_count": 6,
   "metadata": {},
   "outputs": [
    {
     "name": "stdout",
     "output_type": "stream",
     "text": [
      "\r",
      "Training ai.yml: [                    ] 1%"
     ]
    },
    {
     "name": "stderr",
     "output_type": "stream",
     "text": [
      "/home/karl/Documents/chatbot/ChatBot_1000ml_p7/cb_env/lib/python3.8/site-packages/chatterbot/corpus.py:38: YAMLLoadWarning: calling yaml.load() without Loader=... is deprecated, as the default Loader is unsafe. Please read https://msg.pyyaml.org/load for full details.\n",
      "  return yaml.load(data_file)\n"
     ]
    },
    {
     "name": "stdout",
     "output_type": "stream",
     "text": [
      "Training ai.yml: [####################] 100%\n",
      "Training botprofile.yml: [####################] 100%\n",
      "Training computers.yml: [####################] 100%\n",
      "Training conversations.yml: [####################] 100%\n",
      "Training emotion.yml: [####################] 100%\n",
      "Training food.yml: [####################] 100%\n",
      "Training gossip.yml: [####################] 100%\n",
      "Training greetings.yml: [####################] 100%\n",
      "Training health.yml: [####################] 100%\n",
      "Training history.yml: [####################] 100%\n",
      "Training humor.yml: [####################] 100%\n",
      "Training literature.yml: [####################] 100%\n",
      "Training money.yml: [####################] 100%\n",
      "Training movies.yml: [####################] 100%\n",
      "Training politics.yml: [####################] 100%\n",
      "Training psychology.yml: [####################] 100%\n",
      "Training science.yml: [####################] 100%\n",
      "Training sports.yml: [####################] 100%\n",
      "Training trivia.yml: [####################] 100%\n"
     ]
    }
   ],
   "source": [
    "# Next we will need to train in with the corpus.\n",
    "travel_corpustrainer = ChatterBotCorpusTrainer(chatbot)\n",
    "travel_corpustrainer.train(\"chatterbot.corpus.english\")"
   ]
  },
  {
   "cell_type": "markdown",
   "metadata": {},
   "source": [
    "## Functions"
   ]
  },
  {
   "cell_type": "markdown",
   "metadata": {},
   "source": [
    "### Matcher Function\n",
    "Uses SpaCy pattern matching to discover information needed for booking."
   ]
  },
  {
   "cell_type": "code",
   "execution_count": 68,
   "metadata": {},
   "outputs": [],
   "source": [
    "def depart_date_matcher(tokenized):\n",
    "    matcher = Matcher(nlp.vocab)\n",
    "    matcher.add(\"DateFromFinder\", None, [{'LOWER':'leave'}, {'LOWER':'on'}, {\"ENT_TYPE\": \"DATE\"}],\n",
    "                                        [{'LOWER':'leaving'}, {'LOWER':'on'}, {\"ENT_TYPE\": \"DATE\"}],\n",
    "                                        [{'LOWER':'leave'}, {\"ENT_TYPE\": \"DATE\"}],\n",
    "                                        [{'LOWER':'leaving'}, {\"ENT_TYPE\": \"DATE\"}],\n",
    "                                        [{'LOWER':'go'}, {'LOWER':'on'}, {\"ENT_TYPE\": \"DATE\"}],\n",
    "                                        [{'LOWER':'on'}, {\"ENT_TYPE\": \"DATE\"}], \n",
    "                                        [{'LOWER':'from'}, {\"ENT_TYPE\": \"DATE\"}])\n",
    "    return matcher(tokenized)\n",
    "\n",
    "    \n",
    "def return_date_matcher(tokenized):\n",
    "    matcher = Matcher(nlp.vocab)\n",
    "    matcher.add(\"DateToFinder\", None, [{'LOWER':'return'},{'LOWER':'on'}, {\"ENT_TYPE\": \"DATE\"}],\n",
    "                                      [{'LOWER':'returning'},{'LOWER':'on'}, {\"ENT_TYPE\": \"DATE\"}],\n",
    "                                      [{'LOWER':'return'},{\"ENT_TYPE\": \"DATE\"}],\n",
    "                                      [{'LOWER':'returning'}, {\"ENT_TYPE\": \"DATE\"}],\n",
    "                                      [{'LOWER':'back'},{'LOWER':'on'}, {\"ENT_TYPE\": \"DATE\"}],\n",
    "                                      [{'LOWER':'back'}, {\"ENT_TYPE\": \"DATE\"}],\n",
    "                                      [{'LOWER':'for'}, {\"ENT_TYPE\": \"DATE\"}],\n",
    "                                      [{'LOWER':'until'}, {\"ENT_TYPE\": \"DATE\"}],\n",
    "                                      [{'LOWER':'to'}, {\"ENT_TYPE\": \"DATE\"}])\n",
    "    return matcher(tokenized)\n",
    "   \n",
    "\n",
    "def origin_matcher(tokenized):\n",
    "    matcher = Matcher(nlp.vocab)\n",
    "    matcher.add(\"OriginFinder\", None, [{'LOWER':'from'},{'ENT_TYPE':'GPE'}],\n",
    "                                      [{'LOWER':'of'},{'ENT_TYPE':'GPE'}],\n",
    "                                      [{'LOWER':'leaving'},{'ENT_TYPE':'GPE'}],\n",
    "                                      [{'LOWER':'leave'},{'ENT_TYPE':'GPE'}])\n",
    "    return matcher(tokenized)\n",
    "\n",
    "def dest_matcher(tokenized):\n",
    "    matcher = Matcher(nlp.vocab)\n",
    "    matcher.add(\"DestinationFinder\", None, [{'LOWER':'to'},{'ENT_TYPE':'GPE'}],\n",
    "                                           [{'LOWER':'visit'},{'ENT_TYPE':'GPE'}],\n",
    "                                           [{'LOWER':'see'},{'ENT_TYPE':'GPE'}],\n",
    "                                           [{'LOWER':'out'},{'ENT_TYPE':'GPE'}],\n",
    "                                           [{'LOWER':'travel'},{'ENT_TYPE':'GPE'}])\n",
    "    return matcher(tokenized)\n",
    "\n",
    "def budget_matcher(tokenized):\n",
    "    matcher = Matcher(nlp.vocab)\n",
    "    matcher.add('BudgetFinder', None, [{'LOWER':'of'},{'IS_DIGIT':True}],\n",
    "                                      [{'LOWER':'spend'},{'IS_DIGIT':True}],\n",
    "                                      [{'LOWER':'under'},{'IS_DIGIT':True}],\n",
    "                                      [{'LOWER':'than'},{'IS_DIGIT':True}],\n",
    "                                      [{'ENT_TYPE':'MONEY'}],\n",
    "                                      [{'ORTH':'$'},{'IS_DIGIT':True}])\n",
    "    return matcher(tokenized)"
   ]
  },
  {
   "cell_type": "markdown",
   "metadata": {},
   "source": [
    "### Looker Function\n",
    "This is the function which uses the matcher function and returns what, if any, key words are in the user message."
   ]
  },
  {
   "cell_type": "code",
   "execution_count": 8,
   "metadata": {},
   "outputs": [],
   "source": [
    "def entity_looker(message):\n",
    "    '''\n",
    "    This function looks at a message from the user and seeks for matches in dates, locations and budget\n",
    "    and outputs a value of True if they are contained in the message. \n",
    "    '''\n",
    "    \n",
    "    # Tokenize the sentence for entity matching.\n",
    "    tokens = nlp(message)\n",
    "    # This portion uses the boolean nature of an empty list. If the list is empty, we get False, else True\n",
    "    # Date From Match\n",
    "    DF_match = not not depart_date_matcher(tokens)\n",
    "    \n",
    "    # Date To Match\n",
    "    DT_match = not not return_date_matcher(tokens)\n",
    "    \n",
    "    # Origin Match\n",
    "    O_match = not not origin_matcher(tokens)\n",
    "    \n",
    "    # Destination Match\n",
    "    D_match = not not dest_matcher(tokens)\n",
    "    \n",
    "    # Budget Match\n",
    "    B_match = not not budget_matcher(tokens)\n",
    "    \n",
    "    # This returns a tuple of the Trues/Falses, so the functions know what they are looking for specifically.\n",
    "    return (DF_match, DT_match, O_match, D_match, B_match)"
   ]
  },
  {
   "cell_type": "markdown",
   "metadata": {},
   "source": [
    "### Picker Function\n",
    "Uses the looker function. If any matches found, this uses the boolean value to actually do something with the match."
   ]
  },
  {
   "cell_type": "code",
   "execution_count": 9,
   "metadata": {},
   "outputs": [],
   "source": [
    "def entity_picker(message):\n",
    "    '''\n",
    "    This function takes the match information, and calls on the functions necessary to extract the info\n",
    "    from the message. It then converts the entities that it picked out to an API readable form.\n",
    "    It then returns a set of the entities. If there were no matches, it returns None.\n",
    "    '''\n",
    "    \n",
    "    matches = entity_looker(message)\n",
    "    from_date = to_date = origin = dest = budget_int = ''\n",
    "    \n",
    "    # From Date match\n",
    "    if matches[0]:\n",
    "        # Get the from date (comes back as DateTime)\n",
    "        depart_date_dt = get_depart_date(message)\n",
    "        # Convert dates for API\n",
    "        depart_date = convert_date(depart_date_dt)\n",
    "    \n",
    "    # To Date match\n",
    "    if matches[1]:\n",
    "        # Get the from date (comes back as DateTime)\n",
    "        return_date_dt = get_return_date(message)\n",
    "        # Convert dates for API\n",
    "        return_date = convert_date(return_date_dt)\n",
    "        \n",
    "    # Origin Location match\n",
    "    if matches[2]:\n",
    "        # Get the origin location\n",
    "        origin = get_origin(message)\n",
    "    \n",
    "    # Destination Location match\n",
    "    if matches[3]:\n",
    "        # get the destination location\n",
    "        dest = get_dest(message)\n",
    "    \n",
    "    # Budget match\n",
    "    if matches[4]:\n",
    "        # get the budget\n",
    "        budget = get_budget(message)\n",
    "        # convert to int\n",
    "        budget_int = int(budget)\n",
    "    \n",
    "    return (depart_date, return_date, origin, dest, budget_int)"
   ]
  },
  {
   "cell_type": "markdown",
   "metadata": {},
   "source": [
    "### Depart Date Extractor\n",
    "This function returns the depart date in a datetime format."
   ]
  },
  {
   "cell_type": "code",
   "execution_count": 75,
   "metadata": {},
   "outputs": [],
   "source": [
    "def get_depart_date(message):\n",
    "    '''\n",
    "    This function is designed to extract a datetime object from the departure date, called \"from_date\". \n",
    "    If there are two dates in the message, I will _assume_ that the first date is the departure date, and the\n",
    "    second is the return date. \n",
    "    '''\n",
    "    # Tokenize\n",
    "    tokens = nlp(message)\n",
    "    # Extract entities\n",
    "    match = depart_date_matcher(tokens)\n",
    "    desired_date = str(tokens[match[0][1]:match[0][2]+1])\n",
    "\n",
    "    # Next, we will look to see if someone used the words \"tomorrow\", \"next week\" or \"today\"\n",
    "    today = datetime.datetime.today()\n",
    "    \n",
    "    if any(day in desired_date for day in ['today','tomorrow','next week']):\n",
    "        depart_date = word_dates(desired_date, today)\n",
    "    else: \n",
    "        depart_date = dparser.parse(desired_date,fuzzy=True)\n",
    "        \n",
    "    return depart_date"
   ]
  },
  {
   "cell_type": "markdown",
   "metadata": {},
   "source": [
    "### Return Date Extractor\n",
    "Does the same as above, but for the return date."
   ]
  },
  {
   "cell_type": "code",
   "execution_count": 78,
   "metadata": {},
   "outputs": [],
   "source": [
    "def get_return_date(message):\n",
    "    '''\n",
    "    This function is designed to extract a datetime object from the Return date, called \"to_date\". \n",
    "    If there are two dates in the message, I will _assume_ that the first date is the departure date, and the\n",
    "    second is the return date. \n",
    "    '''\n",
    "    # Tokenize\n",
    "    tokens = nlp(message)\n",
    "    # Extract entities\n",
    "    match = return_date_matcher(tokens)\n",
    "    desired_date = str(tokens[match[0][1]:match[0][2]+1])\n",
    "\n",
    "    # Next, we will look to see if someone used the words \"tomorrow\", \"next week\" or \"today\"\n",
    "    today = datetime.datetime.today()\n",
    "    \n",
    "    if any(day in desired_date for day in ['today','tomorrow','next week']):\n",
    "        return_date = word_dates(desired_date, today)\n",
    "    else: \n",
    "        return_date = dparser.parse(desired_date,fuzzy=True)\n",
    "        \n",
    "    return return_date"
   ]
  },
  {
   "cell_type": "markdown",
   "metadata": {
    "heading_collapsed": true
   },
   "source": [
    "### Get Word Dates\n",
    "For times like 'today', 'tomorrow' and 'next week', we need a way to turn them into actual dates."
   ]
  },
  {
   "cell_type": "code",
   "execution_count": 55,
   "metadata": {
    "hidden": true
   },
   "outputs": [],
   "source": [
    "def word_dates(date_text, today):\n",
    "    if 'today' in date_text:\n",
    "        date = today\n",
    "    elif 'tomorrow' in date_text:\n",
    "        date = today + datetime.timedelta(days=1)\n",
    "    elif 'next week' in date_text:\n",
    "        date = today + datetime.timedelta(days=7)\n",
    "    else:\n",
    "        date = None\n",
    "    return date"
   ]
  },
  {
   "cell_type": "markdown",
   "metadata": {
    "heading_collapsed": true
   },
   "source": [
    "### Date Converter\n",
    "The API only takes dates in a particular string format. Let's make a function that does that."
   ]
  },
  {
   "cell_type": "code",
   "execution_count": 56,
   "metadata": {
    "hidden": true
   },
   "outputs": [],
   "source": [
    "def convert_date(dtime):\n",
    "    '''\n",
    "    This function converts a date time object to a month, day, year. This is required for the API\n",
    "    '''\n",
    "    year = dtime.year\n",
    "    month = str(dtime.month) if int(dtime.month) >9 else '0'+str(dtime.month)\n",
    "    day = str(dtime.day) if int(dtime.day)>9 else '0'+str(dtime.day)\n",
    "    formatted_time = f\"{year}-{month}-{day}\"\n",
    "    \n",
    "    return formatted_time"
   ]
  },
  {
   "cell_type": "markdown",
   "metadata": {},
   "source": [
    "### Get Origin Location\n",
    "Extracts the location of origin for the flight."
   ]
  },
  {
   "cell_type": "code",
   "execution_count": 87,
   "metadata": {},
   "outputs": [],
   "source": [
    "def get_origin(message):\n",
    "    \n",
    "    # Tokenize\n",
    "    tokens = nlp(message)\n",
    "    # Extract entities\n",
    "    entities = [(X.label_, X.text) for X in tokens.ents]\n",
    "    # get rid of anything not a date\n",
    "    loc_ent = [x for x in entities if x[0]=='GPE']\n",
    "    locs = [x[1].lower() for x in loc_ent]\n",
    "    \n",
    "    if len(locs)>1:\n",
    "        # If there is more than one location in the string, we just need to figure out what order those locations\n",
    "        # are in, in the sentence, which this logic does.\n",
    "        if dest_matcher(tokens)[0][2] > origin_matcher(tokens)[0][2]:\n",
    "            origin = locs[0]\n",
    "        else:\n",
    "            origin = locs[1]\n",
    "    else:\n",
    "        origin = locs[0]\n",
    "        \n",
    "    return origin"
   ]
  },
  {
   "cell_type": "markdown",
   "metadata": {},
   "source": [
    "### Get Destination Location\n",
    "Extracts the destination for the flight"
   ]
  },
  {
   "cell_type": "code",
   "execution_count": 88,
   "metadata": {},
   "outputs": [],
   "source": [
    "def get_dest(message):\n",
    "    \n",
    "    # Tokenize\n",
    "    tokens = nlp(message)\n",
    "    # Extract entities\n",
    "    entities = [(X.label_, X.text) for X in tokens.ents]\n",
    "    # get rid of anything not a date\n",
    "    loc_ent = [x for x in entities if x[0]=='GPE']\n",
    "    locs = [x[1].lower() for x in loc_ent]\n",
    "    \n",
    "    if len(locs)>1:\n",
    "        # If there is more than one location in the string, we just need to figure out what order those locations\n",
    "        # are in, in the sentence, which this logic does.\n",
    "        if dest_matcher(tokens)[0][2] > origin_matcher(tokens)[0][2]:\n",
    "            dest = locs[1]\n",
    "        else:\n",
    "            dest = locs[0]\n",
    "    else:\n",
    "        dest = locs[0]\n",
    "        \n",
    "    return dest"
   ]
  },
  {
   "cell_type": "markdown",
   "metadata": {},
   "source": [
    "### Budget Extractor\n",
    "Extracts the budget from the text."
   ]
  },
  {
   "cell_type": "code",
   "execution_count": 110,
   "metadata": {},
   "outputs": [],
   "source": [
    "def get_budget(message):\n",
    "    no_punct = re.sub(r'[^\\w\\s$]','',message)\n",
    "    tokens = nlp(no_punct)\n",
    "    match = budget_matcher(tokens)\n",
    "    try:\n",
    "        # Near the position of the first match, scan for numbers. The first number present is the budget.\n",
    "        budget_ls = re.findall(r'[\\d\\.\\d]+', str(tokens[match[0][1]:]))\n",
    "        budget = budget_ls[0]\n",
    "    except IndexError:\n",
    "        budget = 0\n",
    "\n",
    "    return budget"
   ]
  },
  {
   "cell_type": "code",
   "execution_count": 111,
   "metadata": {},
   "outputs": [
    {
     "name": "stdout",
     "output_type": "stream",
     "text": [
      "$2000\n",
      "['2000']\n"
     ]
    },
    {
     "data": {
      "text/plain": [
       "'2000'"
      ]
     },
     "execution_count": 111,
     "metadata": {},
     "output_type": "execute_result"
    }
   ],
   "source": [
    "get_budget('$2000')"
   ]
  },
  {
   "cell_type": "markdown",
   "metadata": {},
   "source": [
    "### IATA code translator\n",
    "Turns a lowercase city name into a corresponding IATA code for airports. "
   ]
  },
  {
   "cell_type": "code",
   "execution_count": 90,
   "metadata": {},
   "outputs": [],
   "source": [
    "# Read in IATA code csv\n",
    "city_code = pd.read_csv('Airports.csv')\n",
    "# make everything lowercase to account for user \n",
    "city_code['Location'] = city_code['Location'].str.lower()\n",
    "# Make the location the index\n",
    "city_code = city_code.groupby('Location').max()\n",
    "# Turn into dictionary where the cities are the keys and codes are the values.\n",
    "code_dict = city_code.to_dict()['Code']\n",
    "\n",
    "def iata_code_lookup(city, codes, origin_city=True):\n",
    "    '''\n",
    "    This function takes in a city name as well as a dictionary with city names and their IATA codes. It then checks whether this is the origin city or not.\n",
    "    If the city is in the dictionary, it will output the code. Otherwise, it will output an empty string and an error message that depends on whether or not the city was the origin or destination.\n",
    "    '''\n",
    "    try: \n",
    "        iata_code = codes[city]\n",
    "    except KeyError:\n",
    "        iata_code = ''\n",
    "        if origin_city:\n",
    "            print(f'Unfortunately there are no flights leaving {city} at this time.')\n",
    "            return None\n",
    "        else:\n",
    "            print(f'Unfortunately there are no flights to {city} at this time.')\n",
    "            return None\n",
    "    return iata_code"
   ]
  },
  {
   "cell_type": "markdown",
   "metadata": {},
   "source": [
    "### Make API Call\n",
    "Returns result of flight booker API. "
   ]
  },
  {
   "cell_type": "code",
   "execution_count": 91,
   "metadata": {},
   "outputs": [],
   "source": [
    "def get_flight(flight_info, codes):\n",
    "    amadeus = Client(\n",
    "        client_id=os.getenv(\"AMADEUS_API_KEY\"),\n",
    "        client_secret=os.getenv(\"AMADEUS_SECRET\")\n",
    "    )\n",
    "\n",
    "    try:\n",
    "        response = amadeus.shopping.flight_offers_search.get(\n",
    "            originLocationCode = iata_code_lookup(flight_info['origin_loc'], codes, origin_city=True),\n",
    "            destinationLocationCode = iata_code_lookup(flight_info['dest_loc'], codes, origin_city=False),\n",
    "            departureDate = flight_info['depart_date'],\n",
    "            returnDate = flight_info['return_date'],\n",
    "            maxPrice = flight_info['budget'],\n",
    "            currencyCode='CAD',\n",
    "            adults=1)\n",
    "        result = f'''Your flight has been booked! Here are the details, tickets will be sent to you by email.\n",
    "        Departure Time: {response.data[0]['itineraries'][0]['segments'][0]['departure']['at']}\n",
    "        Arrival Time: {response.data[0]['itineraries'][0]['segments'][0]['arrival']['at']}\n",
    "        Total Price: {response.data[0]['price']['total']}\n",
    "        Flight Class: {response.data[0]['travelerPricings'][0]['fareDetailsBySegment'][0]['cabin']}\n",
    "        '''\n",
    "    except ResponseError as error:\n",
    "        result = error\n",
    "    return result"
   ]
  },
  {
   "cell_type": "markdown",
   "metadata": {},
   "source": [
    "## The Bot"
   ]
  },
  {
   "cell_type": "code",
   "execution_count": null,
   "metadata": {},
   "outputs": [],
   "source": [
    "flight_info = {'depart_date':0,\n",
    "               'return_date':0,\n",
    "               'origin_loc':0,\n",
    "               'dest_loc':0,\n",
    "               'budget':0\n",
    "              }\n",
    "\n",
    "def Traveler(message):\n",
    "    # First, if the message contains a confirmation, we should continue with the API booking\n",
    "    if ('confirmed' in message) or ('Confirmed' in message):\n",
    "        return get_flight(flight_info, code_dict)\n",
    "    # See what matches we have:\n",
    "    values = entity_picker(message)\n",
    "    \n",
    "    if values[0] != '':\n",
    "        flight_info['depart_date'] = values[0]\n",
    "        \n",
    "    if values[1] != '':\n",
    "        flight_info['return_date'] = values[1]\n",
    "        \n",
    "    if values[2] != '':\n",
    "        flight_info['origin_loc'] = values[2]\n",
    "        \n",
    "    if values[3] != '':\n",
    "        flight_info['dest_loc'] = values[3]\n",
    "        \n",
    "    if values[4] != '':\n",
    "        flight_info['budget'] = values[4]\n",
    "    \n",
    "    constraint_bool = [vals!=0 for vals in flight_info.values()]\n",
    "    if (any(constraint_bool)) and not (all(constraint_bool)):\n",
    "        if flight_info['dest_loc'] == 0:\n",
    "            response_list_dest_loc = ['Where did you want to go?', \n",
    "                                      'Where were you thinking of travelling to?', \n",
    "                                      'What is your desired destination?']\n",
    "            return random.choice(response_list_dest_loc)\n",
    "        if flight_info['origin_loc'] == 0: \n",
    "            response_list_origin_loc = ['Where are you leaving from?', \n",
    "                                        'What city are you flying out of?', \n",
    "                                        'Where will you be flying from?']\n",
    "            return random.choice(response_list_origin_loc)\n",
    "        if flight_info['depart_date'] == 0:\n",
    "            response_list_depart_date = ['When did you want to leave?', \n",
    "                                         'What dates were you thinking?', \n",
    "                                         'When is your travel date?', \n",
    "                                         'For what days should I book the flight?']\n",
    "            return random.choice(response_list_depart_date)\n",
    "        if flight_info['return_date'] == 0:\n",
    "            response_list_return_date = ['When did you want to come back?', \n",
    "                                         'When do you need to return?', \n",
    "                                         'What should I set for return date?']\n",
    "            return random.choice(response_list_return_date)\n",
    "        if flight_info['budget'] == 0:\n",
    "            response_list_budget = ['How much are you willing to spend on this trip?', \n",
    "                                    \"What's your budget for this trip?\", \n",
    "                                    \"Do you have a price limit for the trip?\"]\n",
    "            return random.choice(response_list_budget)\n",
    "    \n",
    "    elif all(constraint_bool):\n",
    "        finalize= f\"Awesome! Looks like I have everything I need to book your flight! Let me just confirm with you. You are booking a flight to {flight_info['dest_loc'].upper()}, and you are flying from {flight_info['origin_loc'].upper()}. You will be leaving on {flight_info['depart_date']} and returning on {flight_info['return_date']}. Finally, your budget is ${flight_info['budget']}. Is all this information correct? If yes, please type 'Confirmed'. If this is not correct, please provide the correct info in detail.\"\n",
    "        return finalize\n",
    "    \n",
    "    else:\n",
    "        return chatbot.get_response(message)"
   ]
  },
  {
   "cell_type": "code",
   "execution_count": null,
   "metadata": {},
   "outputs": [],
   "source": []
  },
  {
   "cell_type": "code",
   "execution_count": 98,
   "metadata": {},
   "outputs": [
    {
     "data": {
      "text/plain": [
       "datetime.datetime(2020, 7, 14, 0, 0)"
      ]
     },
     "execution_count": 98,
     "metadata": {},
     "output_type": "execute_result"
    }
   ],
   "source": [
    "from datetime import datetime\n",
    "\n",
    "date_time_str = '2020-07-14'\n",
    "\n",
    "datetime.strptime(date_time_str, '%Y-%m-%d')"
   ]
  },
  {
   "cell_type": "code",
   "execution_count": 100,
   "metadata": {},
   "outputs": [
    {
     "ename": "SyntaxError",
     "evalue": "leading zeros in decimal integer literals are not permitted; use an 0o prefix for octal integers (<ipython-input-100-1691780a722b>, line 1)",
     "output_type": "error",
     "traceback": [
      "\u001b[0;36m  File \u001b[0;32m\"<ipython-input-100-1691780a722b>\"\u001b[0;36m, line \u001b[0;32m1\u001b[0m\n\u001b[0;31m    datetime(2020,07,14)\u001b[0m\n\u001b[0m                   ^\u001b[0m\n\u001b[0;31mSyntaxError\u001b[0m\u001b[0;31m:\u001b[0m leading zeros in decimal integer literals are not permitted; use an 0o prefix for octal integers\n"
     ]
    }
   ],
   "source": [
    "datetime(2020,07,14)"
   ]
  },
  {
   "cell_type": "code",
   "execution_count": null,
   "metadata": {},
   "outputs": [],
   "source": []
  }
 ],
 "metadata": {
  "kernelspec": {
   "display_name": "Python 3",
   "language": "python",
   "name": "python3"
  },
  "language_info": {
   "codemirror_mode": {
    "name": "ipython",
    "version": 3
   },
   "file_extension": ".py",
   "mimetype": "text/x-python",
   "name": "python",
   "nbconvert_exporter": "python",
   "pygments_lexer": "ipython3",
   "version": "3.8.2"
  }
 },
 "nbformat": 4,
 "nbformat_minor": 4
}
