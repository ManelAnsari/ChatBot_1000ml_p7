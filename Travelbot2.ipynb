{
 "cells": [
  {
   "cell_type": "markdown",
   "metadata": {},
   "source": [
    "## Imports"
   ]
  },
  {
   "cell_type": "code",
   "execution_count": 45,
   "metadata": {},
   "outputs": [
    {
     "name": "stderr",
     "output_type": "stream",
     "text": [
      "[nltk_data] Downloading package punkt to /home/karl/nltk_data...\n",
      "[nltk_data]   Package punkt is already up-to-date!\n",
      "[nltk_data] Downloading package wordnet to /home/karl/nltk_data...\n",
      "[nltk_data]   Package wordnet is already up-to-date!\n",
      "[nltk_data] Downloading package stopwords to /home/karl/nltk_data...\n",
      "[nltk_data]   Package stopwords is already up-to-date!\n"
     ]
    }
   ],
   "source": [
    "path='data/'\n",
    "#import colab_env\n",
    "import os\n",
    "import datetime\n",
    "from time import strptime\n",
    "from dotenv import load_dotenv\n",
    "load_dotenv(dotenv_path='')\n",
    "# The API\n",
    "from amadeus import Client, ResponseError\n",
    "\n",
    "# This library can extract dates from text\n",
    "import dateutil.parser as dparser\n",
    "\n",
    "# We'll need the following nltk packages\n",
    "import nltk\n",
    "nltk.download('punkt')\n",
    "nltk.download('wordnet')\n",
    "\n",
    "# We'll use lemmas instead of stems.\n",
    "from nltk.stem import WordNetLemmatizer\n",
    "lemmatizer = WordNetLemmatizer()\n",
    "\n",
    "# We will tag the parts of the speech \n",
    "from nltk.tag import pos_tag\n",
    "\n",
    "# Get the stop words\n",
    "from nltk.corpus import stopwords\n",
    "nltk.download('stopwords')\n",
    "\n",
    "# We'll need json to open a file of intents\n",
    "import json\n",
    "\n",
    "# We will need to save the model\n",
    "import pickle\n",
    "\n",
    "# Some helper libraries\n",
    "import numpy as np\n",
    "import pandas as pd\n",
    "import random\n",
    "import re\n",
    "\n",
    "# We'll need these to actually create a machine learning model.\n",
    "from keras.models import Sequential\n",
    "from keras.layers import Dense, Activation, Dropout\n",
    "from keras.optimizers import SGD, Adagrad, Adam, Adadelta\n",
    "\n",
    "# We may need to try out a grid search\n",
    "from sklearn.model_selection import GridSearchCV\n",
    "\n",
    "# We'll need this for the in-code tagging of words\n",
    "import spacy\n",
    "from spacy import displacy\n",
    "from collections import Counter\n",
    "import en_core_web_sm\n",
    "nlp = en_core_web_sm.load()\n",
    "from spacy.matcher import Matcher\n",
    "\n",
    "from chatterbot import ChatBot\n",
    "from chatterbot.trainers import ListTrainer\n",
    "from chatterbot.trainers import ChatterBotCorpusTrainer"
   ]
  },
  {
   "cell_type": "markdown",
   "metadata": {},
   "source": [
    "## Training Data"
   ]
  },
  {
   "cell_type": "code",
   "execution_count": 46,
   "metadata": {},
   "outputs": [],
   "source": [
    "# Greetings\n",
    "hellos = [['Hello!','Hi there'],\n",
    "          ['Hi there','Hello!'],\n",
    "          ['Greetings','Hey'],\n",
    "          ['Hey','Oh hey!'],\n",
    "          ['Good morning','Good morning'],\n",
    "          ['Good evening','Good evening'],\n",
    "          ['Hey there!','Well hello there']\n",
    "         ]\n",
    "\n",
    "# Farewells\n",
    "byes = [['Bye','Goodbye!'],\n",
    "        ['See ya','Good bye!'],\n",
    "        ['Have a good night','You as well, goodbye!'],\n",
    "        ['Farewell','Later!'],\n",
    "        ['Goodbye!', 'Bye for now!']\n",
    "       ]"
   ]
  },
  {
   "cell_type": "code",
   "execution_count": 47,
   "metadata": {},
   "outputs": [],
   "source": [
    "convos = [\n",
    "          [\"I would like to book a flight.\",\n",
    "           \"I can help you with that. Where were you thinking of traveling to?\"\n",
    "          ],\n",
    "          ['I want to buy a plane ticket.',\n",
    "           'I can help you make your reservation! Can you provide some more details?'\n",
    "          ],\n",
    "          ['I need to make a plane reservation.',\n",
    "           'I can book your trip right now. What city are you flying to, from?'\n",
    "          ],\n",
    "          ['I want to take a vacation',\n",
    "           'I can help you with that! What were you thinking?'\n",
    "          ],\n",
    "          ['I need a goddamn vacation',\n",
    "           'Where do you come from, where do you go? Where are you coming from, Cotton Eyed Joe?'\n",
    "          ],\n",
    "          ['I want to book a flight',\n",
    "           'For sure! Can give me some details, like where you want to go and when?'\n",
    "          ],\n",
    "          ['Book me a flight',\n",
    "           \"Definitely! What sort of trip were you thinking of?\"\n",
    "          ],\n",
    "          [\"Can I book a plane ticket?\",\n",
    "           \"Absolutely! Can you provide some more details for your trip?\"\n",
    "          ],\n",
    "          [\"I would like to book a trip\",\n",
    "           \"Awesome, what sort of trip were you thinking?\"              \n",
    "          ]\n",
    "         ]"
   ]
  },
  {
   "cell_type": "markdown",
   "metadata": {},
   "source": [
    "## Training the Bot"
   ]
  },
  {
   "cell_type": "code",
   "execution_count": 48,
   "metadata": {},
   "outputs": [
    {
     "name": "stderr",
     "output_type": "stream",
     "text": [
      "[nltk_data] Downloading package averaged_perceptron_tagger to\n",
      "[nltk_data]     /home/karl/nltk_data...\n",
      "[nltk_data]   Package averaged_perceptron_tagger is already up-to-\n",
      "[nltk_data]       date!\n",
      "[nltk_data] Downloading package punkt to /home/karl/nltk_data...\n",
      "[nltk_data]   Package punkt is already up-to-date!\n",
      "[nltk_data] Downloading package stopwords to /home/karl/nltk_data...\n",
      "[nltk_data]   Package stopwords is already up-to-date!\n"
     ]
    }
   ],
   "source": [
    "# We will first train the bot with the lists of data we've given it above.\n",
    "chatbot = ChatBot('Traveller',logic_adapters=[\"chatterbot.logic.BestMatch\"])\n",
    "travel_listtrainer = ListTrainer(chatbot)"
   ]
  },
  {
   "cell_type": "code",
   "execution_count": 49,
   "metadata": {},
   "outputs": [
    {
     "name": "stdout",
     "output_type": "stream",
     "text": [
      "List Trainer: [####################] 100%\n",
      "List Trainer: [####################] 100%\n",
      "List Trainer: [####################] 100%\n",
      "List Trainer: [####################] 100%\n",
      "List Trainer: [####################] 100%\n",
      "List Trainer: [####################] 100%\n",
      "List Trainer: [####################] 100%\n",
      "List Trainer: [####################] 100%\n",
      "List Trainer: [####################] 100%\n",
      "List Trainer: [####################] 100%\n",
      "List Trainer: [####################] 100%\n",
      "List Trainer: [####################] 100%\n",
      "List Trainer: [####################] 100%\n",
      "List Trainer: [####################] 100%\n",
      "List Trainer: [####################] 100%\n",
      "List Trainer: [####################] 100%\n",
      "List Trainer: [####################] 100%\n",
      "List Trainer: [####################] 100%\n",
      "List Trainer: [####################] 100%\n",
      "List Trainer: [####################] 100%\n",
      "List Trainer: [####################] 100%\n"
     ]
    }
   ],
   "source": [
    "for convo in convos:\n",
    "    travel_listtrainer.train(convo)\n",
    "\n",
    "for hi in hellos:\n",
    "    travel_listtrainer.train(hi)\n",
    "\n",
    "for bye in byes:\n",
    "    travel_listtrainer.train(bye)"
   ]
  },
  {
   "cell_type": "code",
   "execution_count": 50,
   "metadata": {},
   "outputs": [
    {
     "name": "stdout",
     "output_type": "stream",
     "text": [
      "Training ai.yml: [###                 ] 16%"
     ]
    },
    {
     "name": "stderr",
     "output_type": "stream",
     "text": [
      "/home/karl/Documents/chatbot/ChatBot_1000ml_p7/cb_env/lib/python3.8/site-packages/chatterbot/corpus.py:38: YAMLLoadWarning: calling yaml.load() without Loader=... is deprecated, as the default Loader is unsafe. Please read https://msg.pyyaml.org/load for full details.\n",
      "  return yaml.load(data_file)\n"
     ]
    },
    {
     "name": "stdout",
     "output_type": "stream",
     "text": [
      "Training ai.yml: [####################] 100%\n",
      "Training botprofile.yml: [####################] 100%\n",
      "Training computers.yml: [####################] 100%\n",
      "Training conversations.yml: [####################] 100%\n",
      "Training emotion.yml: [####################] 100%\n",
      "Training food.yml: [####################] 100%\n",
      "Training gossip.yml: [####################] 100%\n",
      "Training greetings.yml: [####################] 100%\n",
      "Training health.yml: [####################] 100%\n",
      "Training history.yml: [####################] 100%\n",
      "Training humor.yml: [####################] 100%\n",
      "Training literature.yml: [####################] 100%\n",
      "Training money.yml: [####################] 100%\n",
      "Training movies.yml: [####################] 100%\n",
      "Training politics.yml: [####################] 100%\n",
      "Training psychology.yml: [####################] 100%\n",
      "Training science.yml: [####################] 100%\n",
      "Training sports.yml: [####################] 100%\n",
      "Training trivia.yml: [####################] 100%\n"
     ]
    }
   ],
   "source": [
    "# Next we will need to train in with the corpus.\n",
    "travel_corpustrainer = ChatterBotCorpusTrainer(chatbot)\n",
    "travel_corpustrainer.train(\"chatterbot.corpus.english\")"
   ]
  },
  {
   "cell_type": "markdown",
   "metadata": {},
   "source": [
    "## Functions"
   ]
  },
  {
   "cell_type": "markdown",
   "metadata": {},
   "source": [
    "### Matcher Function\n",
    "Uses SpaCy pattern matching to discover information needed for booking."
   ]
  },
  {
   "cell_type": "code",
   "execution_count": 51,
   "metadata": {},
   "outputs": [],
   "source": [
    "def depart_date_matcher(tokenized):\n",
    "    matcher = Matcher(nlp.vocab)\n",
    "    matcher.add(\"DateFromFinder\", None, [{'LOWER':'leave'}, {'LOWER':'on'}, {\"ENT_TYPE\": \"DATE\"}],\n",
    "                                        [{'LOWER':'leaving'}, {'LOWER':'on'}, {\"ENT_TYPE\": \"DATE\"}],\n",
    "                                        [{'LOWER':'leave'}, {\"ENT_TYPE\": \"DATE\"}],\n",
    "                                        [{'LOWER':'leaving'}, {\"ENT_TYPE\": \"DATE\"}],\n",
    "                                        [{'LOWER':'go'}, {'LOWER':'on'}, {\"ENT_TYPE\": \"DATE\"}],\n",
    "                                        [{'LOWER':'on'}, {\"ENT_TYPE\": \"DATE\"}], \n",
    "                                        [{'LOWER':'from'}, {\"ENT_TYPE\": \"DATE\"}])\n",
    "    return matcher(tokenized)\n",
    "\n",
    "    \n",
    "def return_date_matcher(tokenized):\n",
    "    matcher = Matcher(nlp.vocab)\n",
    "    matcher.add(\"DateToFinder\", None, [{'LOWER':'return'},{'LOWER':'on'}, {\"ENT_TYPE\": \"DATE\"}],\n",
    "                                      [{'LOWER':'returning'},{'LOWER':'on'}, {\"ENT_TYPE\": \"DATE\"}],\n",
    "                                      [{'LOWER':'return'},{\"ENT_TYPE\": \"DATE\"}],\n",
    "                                      [{'LOWER':'returning'}, {\"ENT_TYPE\": \"DATE\"}],\n",
    "                                      [{'LOWER':'back'},{'LOWER':'on'}, {\"ENT_TYPE\": \"DATE\"}],\n",
    "                                      [{'LOWER':'back'}, {\"ENT_TYPE\": \"DATE\"}],\n",
    "                                      [{'LOWER':'for'}, {\"ENT_TYPE\": \"DATE\"}],\n",
    "                                      [{'LOWER':'until'}, {\"ENT_TYPE\": \"DATE\"}],\n",
    "                                      [{'LOWER':'to'}, {\"ENT_TYPE\": \"DATE\"}])\n",
    "    return matcher(tokenized)\n",
    "   \n",
    "\n",
    "def origin_matcher(tokenized):\n",
    "    matcher = Matcher(nlp.vocab)\n",
    "    matcher.add(\"OriginFinder\", None, [{'LOWER':'from'},{'ENT_TYPE':'GPE'}],\n",
    "                                      [{'LOWER':'of'},{'ENT_TYPE':'GPE'}],\n",
    "                                      [{'LOWER':'leaving'},{'ENT_TYPE':'GPE'}],\n",
    "                                      [{'LOWER':'leave'},{'ENT_TYPE':'GPE'}])\n",
    "    return matcher(tokenized)\n",
    "\n",
    "def dest_matcher(tokenized):\n",
    "    matcher = Matcher(nlp.vocab)\n",
    "    matcher.add(\"DestinationFinder\", None, [{'LOWER':'to'},{'ENT_TYPE':'GPE'}],\n",
    "                                           [{'LOWER':'visit'},{'ENT_TYPE':'GPE'}],\n",
    "                                           [{'LOWER':'see'},{'ENT_TYPE':'GPE'}],\n",
    "                                           [{'LOWER':'out'},{'ENT_TYPE':'GPE'}],\n",
    "                                           [{'LOWER':'travel'},{'ENT_TYPE':'GPE'}])\n",
    "    return matcher(tokenized)\n",
    "\n",
    "def budget_matcher(tokenized):\n",
    "    matcher = Matcher(nlp.vocab)\n",
    "    matcher.add('BudgetFinder', None, [{'LOWER':'of'},{'IS_DIGIT':True}],\n",
    "                                      [{'LOWER':'spend'},{'IS_DIGIT':True}],\n",
    "                                      [{'LOWER':'under'},{'IS_DIGIT':True}],\n",
    "                                      [{'LOWER':'than'},{'IS_DIGIT':True}],\n",
    "                                      [{'ENT_TYPE':'MONEY'}],\n",
    "                                      [{'ORTH':'$'},{'IS_DIGIT':True}])\n",
    "    return matcher(tokenized)"
   ]
  },
  {
   "cell_type": "markdown",
   "metadata": {},
   "source": [
    "### Looker Function\n",
    "This is the function which uses the matcher function and returns what, if any, key words are in the user message."
   ]
  },
  {
   "cell_type": "code",
   "execution_count": 52,
   "metadata": {},
   "outputs": [],
   "source": [
    "def entity_looker(message):\n",
    "    '''\n",
    "    This function looks at a message from the user and seeks for matches in dates, locations and budget\n",
    "    and outputs a value of True if they are contained in the message. \n",
    "    '''\n",
    "    \n",
    "    # Tokenize the sentence for entity matching.\n",
    "    tokens = nlp(message)\n",
    "    # This portion uses the boolean nature of an empty list. If the list is empty, we get False, else True\n",
    "    # Date From Match\n",
    "    DF_match = not not depart_date_matcher(tokens)\n",
    "    \n",
    "    # Date To Match\n",
    "    DT_match = not not return_date_matcher(tokens)\n",
    "    \n",
    "    # Origin Match\n",
    "    O_match = not not origin_matcher(tokens)\n",
    "    \n",
    "    # Destination Match\n",
    "    D_match = not not dest_matcher(tokens)\n",
    "    \n",
    "    # Budget Match\n",
    "    B_match = not not budget_matcher(tokens)\n",
    "    \n",
    "    # This returns a tuple of the Trues/Falses, so the functions know what they are looking for specifically.\n",
    "    return (DF_match, DT_match, O_match, D_match, B_match)"
   ]
  },
  {
   "cell_type": "markdown",
   "metadata": {},
   "source": [
    "### Picker Function\n",
    "Uses the looker function. If any matches found, this uses the boolean value to actually do something with the match."
   ]
  },
  {
   "cell_type": "code",
   "execution_count": 53,
   "metadata": {},
   "outputs": [],
   "source": [
    "def entity_picker(message):\n",
    "    '''\n",
    "    This function takes the match information, and calls on the functions necessary to extract the info\n",
    "    from the message. It then converts the entities that it picked out to an API readable form.\n",
    "    It then returns a set of the entities. If there were no matches, it returns None.\n",
    "    '''\n",
    "    \n",
    "    matches = entity_looker(message)\n",
    "    from_date = to_date = origin = dest = budget_int = ''\n",
    "    \n",
    "    # From Date match\n",
    "    if matches[0]:\n",
    "        # Get the from date (comes back as DateTime)\n",
    "        depart_date_dt = get_depart_date(message)\n",
    "        # Convert dates for API\n",
    "        depart_date = convert_date(depart_date_dt)\n",
    "    \n",
    "    # To Date match\n",
    "    if matches[1]:\n",
    "        # Get the from date (comes back as DateTime)\n",
    "        return_date_dt = get_return_date(message)\n",
    "        # Convert dates for API\n",
    "        return_date = convert_date(return_date_dt)\n",
    "        \n",
    "    # Origin Location match\n",
    "    if matches[2]:\n",
    "        # Get the origin location\n",
    "        origin = get_origin(message)\n",
    "    \n",
    "    # Destination Location match\n",
    "    if matches[3]:\n",
    "        # get the destination location\n",
    "        dest = get_dest(message)\n",
    "    \n",
    "    # Budget match\n",
    "    if matches[4]:\n",
    "        # get the budget\n",
    "        budget = get_budget(message)\n",
    "        # convert to int\n",
    "        budget_int = int(budget)\n",
    "    \n",
    "    return (depart_date, return_date, origin, dest, budget_int)"
   ]
  },
  {
   "cell_type": "markdown",
   "metadata": {},
   "source": [
    "### Depart Date Extractor\n",
    "This function returns the depart date in a datetime format."
   ]
  },
  {
   "cell_type": "code",
   "execution_count": 54,
   "metadata": {},
   "outputs": [],
   "source": [
    "def get_depart_date(message):\n",
    "    '''\n",
    "    This function is designed to extract a datetime object from the departure date, called \"from_date\". \n",
    "    If there are two dates in the message, I will _assume_ that the first date is the departure date, and the\n",
    "    second is the return date. \n",
    "    '''\n",
    "    # Tokenize\n",
    "    tokens = nlp(message)\n",
    "    # Extract entities\n",
    "    match = depart_date_matcher(tokens)\n",
    "    desired_date = str(tokens[match[0][1]:match[0][2]+1])\n",
    "\n",
    "    # Next, we will look to see if someone used the words \"tomorrow\", \"next week\" or \"today\"\n",
    "    today = datetime.datetime.today()\n",
    "    \n",
    "    if any(day in desired_date for day in ['today','tomorrow','next week']):\n",
    "        depart_date = word_dates(desired_date, today)\n",
    "    else: \n",
    "        depart_date = dparser.parse(desired_date,fuzzy=True)\n",
    "        \n",
    "    return depart_date"
   ]
  },
  {
   "cell_type": "markdown",
   "metadata": {},
   "source": [
    "### Return Date Extractor\n",
    "Does the same as above, but for the return date."
   ]
  },
  {
   "cell_type": "code",
   "execution_count": 55,
   "metadata": {},
   "outputs": [],
   "source": [
    "def get_return_date(message):\n",
    "    '''\n",
    "    This function is designed to extract a datetime object from the Return date, called \"to_date\". \n",
    "    If there are two dates in the message, I will _assume_ that the first date is the departure date, and the\n",
    "    second is the return date. \n",
    "    '''\n",
    "    # Tokenize\n",
    "    tokens = nlp(message)\n",
    "    # Extract entities\n",
    "    match = return_date_matcher(tokens)\n",
    "    desired_date = str(tokens[match[0][1]:match[0][2]+1])\n",
    "\n",
    "    # Next, we will look to see if someone used the words \"tomorrow\", \"next week\" or \"today\"\n",
    "    today = datetime.datetime.today()\n",
    "    \n",
    "    if any(day in desired_date for day in ['today','tomorrow','next week']):\n",
    "        return_date = word_dates(desired_date, today)\n",
    "    else: \n",
    "        return_date = dparser.parse(desired_date,fuzzy=True)\n",
    "        \n",
    "    return return_date"
   ]
  },
  {
   "cell_type": "markdown",
   "metadata": {},
   "source": [
    "### Get Word Dates\n",
    "For times like 'today', 'tomorrow' and 'next week', we need a way to turn them into actual dates."
   ]
  },
  {
   "cell_type": "code",
   "execution_count": 16,
   "metadata": {},
   "outputs": [],
   "source": [
    "def word_dates(date_text, today):\n",
    "    if 'today' in date_text:\n",
    "        date = today\n",
    "    elif 'tomorrow' in date_text:\n",
    "        date = today + datetime.timedelta(days=1)\n",
    "    elif 'next week' in date_text:\n",
    "        date = today + datetime.timedelta(days=7)\n",
    "    else:\n",
    "        date = None\n",
    "    return date"
   ]
  },
  {
   "cell_type": "markdown",
   "metadata": {},
   "source": [
    "### Date Converter\n",
    "The API only takes dates in a particular string format. Let's make a function that does that."
   ]
  },
  {
   "cell_type": "code",
   "execution_count": 17,
   "metadata": {},
   "outputs": [],
   "source": [
    "def convert_date(dtime):\n",
    "    '''\n",
    "    This function converts a date time object to a month, day, year. This is required for the API\n",
    "    '''\n",
    "    year = dtime.year\n",
    "    month = str(dtime.month) if int(dtime.month) >9 else '0'+str(dtime.month)\n",
    "    day = str(dtime.day) if int(dtime.day)>9 else '0'+str(dtime.day)\n",
    "    formatted_time = f\"{year}-{month}-{day}\"\n",
    "    \n",
    "    return formatted_time"
   ]
  },
  {
   "cell_type": "markdown",
   "metadata": {},
   "source": [
    "### Get Origin Location\n",
    "Extracts the location of origin for the flight."
   ]
  },
  {
   "cell_type": "code",
   "execution_count": 18,
   "metadata": {},
   "outputs": [],
   "source": [
    "def get_origin(message):\n",
    "    \n",
    "    # Tokenize\n",
    "    tokens = nlp(message)\n",
    "    # Extract entities\n",
    "    entities = [(X.label_, X.text) for X in tokens.ents]\n",
    "    # get rid of anything not a date\n",
    "    loc_ent = [x for x in entities if x[0]=='GPE']\n",
    "    locs = [x[1].lower() for x in loc_ent]\n",
    "    \n",
    "    if len(locs)>1:\n",
    "        # If there is more than one location in the string, we just need to figure out what order those locations\n",
    "        # are in, in the sentence, which this logic does.\n",
    "        if dest_matcher(tokens)[0][2] > origin_matcher(tokens)[0][2]:\n",
    "            origin = locs[0]\n",
    "        else:\n",
    "            origin = locs[1]\n",
    "    else:\n",
    "        origin = locs[0]\n",
    "        \n",
    "    return origin"
   ]
  },
  {
   "cell_type": "markdown",
   "metadata": {},
   "source": [
    "### Get Destination Location\n",
    "Extracts the destination for the flight"
   ]
  },
  {
   "cell_type": "code",
   "execution_count": 19,
   "metadata": {},
   "outputs": [],
   "source": [
    "def get_dest(message):\n",
    "    \n",
    "    # Tokenize\n",
    "    tokens = nlp(message)\n",
    "    # Extract entities\n",
    "    entities = [(X.label_, X.text) for X in tokens.ents]\n",
    "    # get rid of anything not a date\n",
    "    loc_ent = [x for x in entities if x[0]=='GPE']\n",
    "    locs = [x[1].lower() for x in loc_ent]\n",
    "    \n",
    "    if len(locs)>1:\n",
    "        # If there is more than one location in the string, we just need to figure out what order those locations\n",
    "        # are in, in the sentence, which this logic does.\n",
    "        if dest_matcher(tokens)[0][2] > origin_matcher(tokens)[0][2]:\n",
    "            dest = locs[1]\n",
    "        else:\n",
    "            dest = locs[0]\n",
    "    else:\n",
    "        dest = locs[0]\n",
    "        \n",
    "    return dest"
   ]
  },
  {
   "cell_type": "markdown",
   "metadata": {},
   "source": [
    "### Budget Extractor\n",
    "Extracts the budget from the text."
   ]
  },
  {
   "cell_type": "code",
   "execution_count": 20,
   "metadata": {},
   "outputs": [],
   "source": [
    "def get_budget(message):\n",
    "    no_punct = re.sub(r'[^\\w\\s$]','',message)\n",
    "    tokens = nlp(no_punct)\n",
    "    match = budget_matcher(tokens)\n",
    "    try:\n",
    "        # Near the position of the first match, scan for numbers. The first number present is the budget.\n",
    "        budget_ls = re.findall(r'[\\d\\.\\d]+', str(tokens[match[0][1]:]))\n",
    "        budget = budget_ls[0]\n",
    "    except IndexError:\n",
    "        budget = 0\n",
    "\n",
    "    return budget"
   ]
  },
  {
   "cell_type": "code",
   "execution_count": 21,
   "metadata": {},
   "outputs": [
    {
     "data": {
      "text/plain": [
       "'2000'"
      ]
     },
     "execution_count": 21,
     "metadata": {},
     "output_type": "execute_result"
    }
   ],
   "source": [
    "get_budget('$2000')"
   ]
  },
  {
   "cell_type": "markdown",
   "metadata": {},
   "source": [
    "### IATA code translator\n",
    "Turns a lowercase city name into a corresponding IATA code for airports. "
   ]
  },
  {
   "cell_type": "code",
   "execution_count": 22,
   "metadata": {},
   "outputs": [],
   "source": [
    "# Read in IATA code csv\n",
    "city_code = pd.read_csv('Airports.csv')\n",
    "# make everything lowercase to account for user \n",
    "city_code['Location'] = city_code['Location'].str.lower()\n",
    "# Make the location the index\n",
    "city_code = city_code.groupby('Location').max()\n",
    "# Turn into dictionary where the cities are the keys and codes are the values.\n",
    "code_dict = city_code.to_dict()['Code']\n",
    "\n",
    "def iata_code_lookup(city, codes, origin_city=True):\n",
    "    '''\n",
    "    This function takes in a city name as well as a dictionary with city names and their IATA codes. It then checks whether this is the origin city or not.\n",
    "    If the city is in the dictionary, it will output the code. Otherwise, it will output an empty string and an error message that depends on whether or not the city was the origin or destination.\n",
    "    '''\n",
    "    try: \n",
    "        iata_code = codes[city]\n",
    "    except KeyError:\n",
    "        iata_code = ''\n",
    "        if origin_city:\n",
    "            print(f'Unfortunately there are no flights leaving {city} at this time.')\n",
    "            return None\n",
    "        else:\n",
    "            print(f'Unfortunately there are no flights to {city} at this time.')\n",
    "            return None\n",
    "    return iata_code"
   ]
  },
  {
   "cell_type": "markdown",
   "metadata": {},
   "source": [
    "### Make API Call\n",
    "Returns result of flight booker API. "
   ]
  },
  {
   "cell_type": "code",
   "execution_count": 23,
   "metadata": {},
   "outputs": [],
   "source": [
    "def get_flight(flight_info, codes):\n",
    "    amadeus = Client(\n",
    "        client_id=os.getenv(\"AMADEUS_API_KEY\"),\n",
    "        client_secret=os.getenv(\"AMADEUS_SECRET\")\n",
    "    )\n",
    "\n",
    "    try:\n",
    "        response = amadeus.shopping.flight_offers_search.get(\n",
    "            originLocationCode = iata_code_lookup(flight_info['origin_loc'], codes, origin_city=True),\n",
    "            destinationLocationCode = iata_code_lookup(flight_info['dest_loc'], codes, origin_city=False),\n",
    "            departureDate = flight_info['depart_date'],\n",
    "            returnDate = flight_info['return_date'],\n",
    "            maxPrice = flight_info['budget'],\n",
    "            currencyCode='CAD',\n",
    "            adults=1)\n",
    "        result = f'''Your flight has been booked! Here are the details, tickets will be sent to you by email.\n",
    "        Departure Time: {response.data[0]['itineraries'][0]['segments'][0]['departure']['at']}\n",
    "        Arrival Time: {response.data[0]['itineraries'][0]['segments'][0]['arrival']['at']}\n",
    "        Total Price: {response.data[0]['price']['total']}\n",
    "        Flight Class: {response.data[0]['travelerPricings'][0]['fareDetailsBySegment'][0]['cabin']}\n",
    "        '''\n",
    "    except ResponseError as error:\n",
    "        result = error\n",
    "    return result"
   ]
  },
  {
   "cell_type": "markdown",
   "metadata": {
    "heading_collapsed": true
   },
   "source": [
    "## The Bot"
   ]
  },
  {
   "cell_type": "code",
   "execution_count": 24,
   "metadata": {
    "hidden": true
   },
   "outputs": [],
   "source": [
    "flight_info = {'depart_date':0,\n",
    "               'return_date':0,\n",
    "               'origin_loc':0,\n",
    "               'dest_loc':0,\n",
    "               'budget':0\n",
    "              }\n",
    "\n",
    "def Traveler(message):\n",
    "    # First, if the message contains a confirmation, we should continue with the API booking\n",
    "    if ('confirmed' in message) or ('Confirmed' in message):\n",
    "        return get_flight(flight_info, code_dict)\n",
    "    # See what matches we have:\n",
    "    values = entity_picker(message)\n",
    "    \n",
    "    if values[0] != '':\n",
    "        flight_info['depart_date'] = values[0]\n",
    "        \n",
    "    if values[1] != '':\n",
    "        flight_info['return_date'] = values[1]\n",
    "        \n",
    "    if values[2] != '':\n",
    "        flight_info['origin_loc'] = values[2]\n",
    "        \n",
    "    if values[3] != '':\n",
    "        flight_info['dest_loc'] = values[3]\n",
    "        \n",
    "    if values[4] != '':\n",
    "        flight_info['budget'] = values[4]\n",
    "    \n",
    "    constraint_bool = [vals!=0 for vals in flight_info.values()]\n",
    "    if (any(constraint_bool)) and not (all(constraint_bool)):\n",
    "        if flight_info['dest_loc'] == 0:\n",
    "            response_list_dest_loc = ['Where did you want to go?', \n",
    "                                      'Where were you thinking of travelling to?', \n",
    "                                      'What is your desired destination?']\n",
    "            return random.choice(response_list_dest_loc)\n",
    "        if flight_info['origin_loc'] == 0: \n",
    "            response_list_origin_loc = ['Where are you leaving from?', \n",
    "                                        'What city are you flying out of?', \n",
    "                                        'Where will you be flying from?']\n",
    "            return random.choice(response_list_origin_loc)\n",
    "        if flight_info['depart_date'] == 0:\n",
    "            response_list_depart_date = ['When did you want to leave?', \n",
    "                                         'What dates were you thinking?', \n",
    "                                         'When is your travel date?', \n",
    "                                         'For what days should I book the flight?']\n",
    "            return random.choice(response_list_depart_date)\n",
    "        if flight_info['return_date'] == 0:\n",
    "            response_list_return_date = ['When did you want to come back?', \n",
    "                                         'When do you need to return?', \n",
    "                                         'What should I set for return date?']\n",
    "            return random.choice(response_list_return_date)\n",
    "        if flight_info['budget'] == 0:\n",
    "            response_list_budget = ['How much are you willing to spend on this trip?', \n",
    "                                    \"What's your budget for this trip?\", \n",
    "                                    \"Do you have a price limit for the trip?\"]\n",
    "            return random.choice(response_list_budget)\n",
    "    \n",
    "    elif all(constraint_bool):\n",
    "        finalize= f\"Awesome! Looks like I have everything I need to book your flight! Let me just confirm with you. You are booking a flight to {flight_info['dest_loc'].upper()}, and you are flying from {flight_info['origin_loc'].upper()}. You will be leaving on {flight_info['depart_date']} and returning on {flight_info['return_date']}. Finally, your budget is ${flight_info['budget']}. Is all this information correct? If yes, please type 'Confirmed'. If this is not correct, please provide the correct info in detail.\"\n",
    "        return finalize\n",
    "    \n",
    "    else:\n",
    "        return chatbot.get_response(message)"
   ]
  },
  {
   "cell_type": "markdown",
   "metadata": {},
   "source": [
    "# API Practice"
   ]
  },
  {
   "cell_type": "code",
   "execution_count": 4,
   "metadata": {},
   "outputs": [],
   "source": [
    "amadeus = Client(\n",
    "        client_id=os.getenv(\"AMADEUS_API_KEY\"),\n",
    "        client_secret=os.getenv(\"AMADEUS_SECRET\")\n",
    "    )\n",
    "response = amadeus.shopping.flight_offers_search.get(\n",
    "            originLocationCode = 'YYZ',\n",
    "            destinationLocationCode = 'YVR',\n",
    "            departureDate = '2020-07-15',\n",
    "            returnDate = '2020-07-24',\n",
    "            maxPrice = 2000,\n",
    "            currencyCode='CAD',\n",
    "            adults=1)"
   ]
  },
  {
   "cell_type": "code",
   "execution_count": 41,
   "metadata": {},
   "outputs": [
    {
     "name": "stdout",
     "output_type": "stream",
     "text": [
      "\n",
      "\u001b[1mOption 1\u001b[0m\n",
      "Departure Time:        19:45 on 2020-7-15\n",
      "Arrival Time:          21:55 on 2020-7-15\n",
      "Flight Duration:       5h10m\n",
      "Return Departure Time: 11:00 on 2020-7-24\n",
      "Return Arrival Time:   18:35 on 2020-7-24\n",
      "Flight Duration:       4h35m\n",
      "Total Price:           $422.88\n",
      "Flight Class:          ECONOMY\n",
      "\n",
      "\n",
      "\u001b[1mOption 2\u001b[0m\n",
      "Departure Time:        19:45 on 2020-7-15\n",
      "Arrival Time:          21:55 on 2020-7-15\n",
      "Flight Duration:       5h10m\n",
      "Return Departure Time: 23:00 on 2020-7-24\n",
      "Return Arrival Time:   6:35 on 2020-7-25\n",
      "Flight Duration:       4h35m\n",
      "Total Price:           $422.88\n",
      "Flight Class:          ECONOMY\n",
      "\n",
      "\n",
      "\u001b[1mOption 3\u001b[0m\n",
      "Departure Time:        15:00 on 2020-7-15\n",
      "Arrival Time:          17:06 on 2020-7-15\n",
      "Flight Duration:       5h6m\n",
      "Return Departure Time: 21:50 on 2020-7-24\n",
      "Return Arrival Time:   22:49 on 2020-7-24\n",
      "Flight Duration:       6h24m\n",
      "Total Price:           $873.09\n",
      "Flight Class:          ECONOMY\n",
      "\n",
      "\n",
      "\u001b[1mOption 4\u001b[0m\n",
      "Departure Time:        15:00 on 2020-7-15\n",
      "Arrival Time:          17:06 on 2020-7-15\n",
      "Flight Duration:       5h6m\n",
      "Return Departure Time: 20:30 on 2020-7-24\n",
      "Return Arrival Time:   21:29 on 2020-7-24\n",
      "Flight Duration:       7h44m\n",
      "Total Price:           $873.09\n",
      "Flight Class:          ECONOMY\n",
      "\n",
      "\n",
      "\u001b[1mOption 5\u001b[0m\n",
      "Departure Time:        15:00 on 2020-7-15\n",
      "Arrival Time:          17:06 on 2020-7-15\n",
      "Flight Duration:       5h6m\n",
      "Return Departure Time: 19:30 on 2020-7-24\n",
      "Return Arrival Time:   20:29 on 2020-7-24\n",
      "Flight Duration:       8h44m\n",
      "Total Price:           $873.09\n",
      "Flight Class:          ECONOMY\n",
      "\n"
     ]
    }
   ],
   "source": [
    "for i, offer in enumerate(response.data[:5]):\n",
    "    to_dep = dparser.parse(offer['itineraries'][0]['segments'][0]['departure']['at'],fuzzy=True)\n",
    "    to_arr = dparser.parse(offer['itineraries'][0]['segments'][0]['arrival']['at'],fuzzy=True)\n",
    "    re_dep = dparser.parse(offer['itineraries'][1]['segments'][0]['departure']['at'],fuzzy=True)\n",
    "    re_arr = dparser.parse(offer['itineraries'][1]['segments'][0]['arrival']['at'],fuzzy=True)\n",
    "    print(f'''\n",
    "\\033[1mOption {i+1}\\033[0m\n",
    "Departure Time:        {to_dep.hour}:{to_dep.minute if to_dep.minute>9 else str(0)+str(to_dep.minute)} on {to_dep.year}-{to_dep.month}-{to_dep.day}\n",
    "Arrival Time:          {to_arr.hour}:{to_arr.minute if to_arr.minute>9 else str(0)+str(to_arr.minute)} on {to_arr.year}-{to_arr.month}-{to_arr.day}\n",
    "Flight Duration:       {offer['itineraries'][0]['duration'].strip('PT').lower()}\n",
    "Return Departure Time: {re_dep.hour}:{re_dep.minute if re_dep.minute>9 else str(0)+str(re_dep.minute)} on {re_dep.year}-{re_dep.month}-{re_dep.day}\n",
    "Return Arrival Time:   {re_arr.hour}:{re_arr.minute if re_arr.minute>9 else str(0)+str(re_arr.minute)} on {re_arr.year}-{re_arr.month}-{re_arr.day}\n",
    "Flight Duration:       {offer['itineraries'][1]['duration'].strip('PT').lower()}\n",
    "Total Price:           ${offer['price']['total']}\n",
    "Flight Class:          {offer['travelerPricings'][0]['fareDetailsBySegment'][0]['cabin']}\n",
    "''')"
   ]
  },
  {
   "cell_type": "code",
   "execution_count": 20,
   "metadata": {
    "collapsed": true
   },
   "outputs": [
    {
     "data": {
      "text/plain": [
       "{'type': 'flight-offer',\n",
       " 'id': '1',\n",
       " 'source': 'GDS',\n",
       " 'instantTicketingRequired': False,\n",
       " 'nonHomogeneous': False,\n",
       " 'oneWay': False,\n",
       " 'lastTicketingDate': '2020-07-16',\n",
       " 'numberOfBookableSeats': 9,\n",
       " 'itineraries': [{'duration': 'PT5H10M',\n",
       "   'segments': [{'departure': {'iataCode': 'YYZ',\n",
       "      'terminal': '3',\n",
       "      'at': '2020-07-15T19:45:00'},\n",
       "     'arrival': {'iataCode': 'YVR',\n",
       "      'terminal': 'M',\n",
       "      'at': '2020-07-15T21:55:00'},\n",
       "     'carrierCode': 'TS',\n",
       "     'number': '932',\n",
       "     'aircraft': {'code': '73H'},\n",
       "     'operating': {'carrierCode': 'TS'},\n",
       "     'duration': 'PT5H10M',\n",
       "     'id': '16',\n",
       "     'numberOfStops': 0,\n",
       "     'blacklistedInEU': False}]},\n",
       "  {'duration': 'PT4H35M',\n",
       "   'segments': [{'departure': {'iataCode': 'YVR',\n",
       "      'terminal': 'M',\n",
       "      'at': '2020-07-24T11:00:00'},\n",
       "     'arrival': {'iataCode': 'YYZ',\n",
       "      'terminal': '3',\n",
       "      'at': '2020-07-24T18:35:00'},\n",
       "     'carrierCode': 'TS',\n",
       "     'number': '931',\n",
       "     'aircraft': {'code': '73H'},\n",
       "     'operating': {'carrierCode': 'TS'},\n",
       "     'duration': 'PT4H35M',\n",
       "     'id': '73',\n",
       "     'numberOfStops': 0,\n",
       "     'blacklistedInEU': False}]}],\n",
       " 'price': {'currency': 'CAD',\n",
       "  'total': '422.88',\n",
       "  'base': '280.00',\n",
       "  'fees': [{'amount': '0.00', 'type': 'SUPPLIER'},\n",
       "   {'amount': '0.00', 'type': 'TICKETING'}],\n",
       "  'grandTotal': '422.88'},\n",
       " 'pricingOptions': {'fareType': ['PUBLISHED'],\n",
       "  'includedCheckedBagsOnly': False},\n",
       " 'validatingAirlineCodes': ['TS'],\n",
       " 'travelerPricings': [{'travelerId': '1',\n",
       "   'fareOption': 'STANDARD',\n",
       "   'travelerType': 'ADULT',\n",
       "   'price': {'currency': 'CAD', 'total': '422.88', 'base': '280.00'},\n",
       "   'fareDetailsBySegment': [{'segmentId': '16',\n",
       "     'cabin': 'ECONOMY',\n",
       "     'fareBasis': 'QKBGT1DO',\n",
       "     'brandedFare': 'BGT',\n",
       "     'class': 'Q',\n",
       "     'includedCheckedBags': {'quantity': 0}},\n",
       "    {'segmentId': '73',\n",
       "     'cabin': 'ECONOMY',\n",
       "     'fareBasis': 'QKBGT1DO',\n",
       "     'brandedFare': 'BGT',\n",
       "     'class': 'Q',\n",
       "     'includedCheckedBags': {'quantity': 0}}]}]}"
      ]
     },
     "execution_count": 20,
     "metadata": {},
     "output_type": "execute_result"
    }
   ],
   "source": [
    "response.data[0]"
   ]
  },
  {
   "cell_type": "code",
   "execution_count": 13,
   "metadata": {},
   "outputs": [],
   "source": [
    "dep = dparser.parse('2020-07-15T18:06:05',fuzzy=True)"
   ]
  },
  {
   "cell_type": "code",
   "execution_count": 19,
   "metadata": {
    "scrolled": true
   },
   "outputs": [
    {
     "data": {
      "text/plain": [
       "'18:06 on 2020-7-15'"
      ]
     },
     "execution_count": 19,
     "metadata": {},
     "output_type": "execute_result"
    }
   ],
   "source": [
    "f'{dep.hour}:{dep.minute if dep.minute>9 else str(0)+str(dep.minute)} on {dep.year}-{dep.month}-{dep.day}'"
   ]
  },
  {
   "cell_type": "code",
   "execution_count": 24,
   "metadata": {},
   "outputs": [
    {
     "data": {
      "text/plain": [
       "{'type': 'flight-offer',\n",
       " 'id': '1',\n",
       " 'source': 'GDS',\n",
       " 'instantTicketingRequired': False,\n",
       " 'nonHomogeneous': False,\n",
       " 'oneWay': False,\n",
       " 'lastTicketingDate': '2020-07-16',\n",
       " 'numberOfBookableSeats': 9,\n",
       " 'itineraries': [{'duration': 'PT5H10M',\n",
       "   'segments': [{'departure': {'iataCode': 'YYZ',\n",
       "      'terminal': '3',\n",
       "      'at': '2020-07-15T19:45:00'},\n",
       "     'arrival': {'iataCode': 'YVR',\n",
       "      'terminal': 'M',\n",
       "      'at': '2020-07-15T21:55:00'},\n",
       "     'carrierCode': 'TS',\n",
       "     'number': '932',\n",
       "     'aircraft': {'code': '73H'},\n",
       "     'operating': {'carrierCode': 'TS'},\n",
       "     'duration': 'PT5H10M',\n",
       "     'id': '16',\n",
       "     'numberOfStops': 0,\n",
       "     'blacklistedInEU': False}]},\n",
       "  {'duration': 'PT4H35M',\n",
       "   'segments': [{'departure': {'iataCode': 'YVR',\n",
       "      'terminal': 'M',\n",
       "      'at': '2020-07-24T11:00:00'},\n",
       "     'arrival': {'iataCode': 'YYZ',\n",
       "      'terminal': '3',\n",
       "      'at': '2020-07-24T18:35:00'},\n",
       "     'carrierCode': 'TS',\n",
       "     'number': '931',\n",
       "     'aircraft': {'code': '73H'},\n",
       "     'operating': {'carrierCode': 'TS'},\n",
       "     'duration': 'PT4H35M',\n",
       "     'id': '73',\n",
       "     'numberOfStops': 0,\n",
       "     'blacklistedInEU': False}]}],\n",
       " 'price': {'currency': 'CAD',\n",
       "  'total': '422.88',\n",
       "  'base': '280.00',\n",
       "  'fees': [{'amount': '0.00', 'type': 'SUPPLIER'},\n",
       "   {'amount': '0.00', 'type': 'TICKETING'}],\n",
       "  'grandTotal': '422.88'},\n",
       " 'pricingOptions': {'fareType': ['PUBLISHED'],\n",
       "  'includedCheckedBagsOnly': False},\n",
       " 'validatingAirlineCodes': ['TS'],\n",
       " 'travelerPricings': [{'travelerId': '1',\n",
       "   'fareOption': 'STANDARD',\n",
       "   'travelerType': 'ADULT',\n",
       "   'price': {'currency': 'CAD', 'total': '422.88', 'base': '280.00'},\n",
       "   'fareDetailsBySegment': [{'segmentId': '16',\n",
       "     'cabin': 'ECONOMY',\n",
       "     'fareBasis': 'QKBGT1DO',\n",
       "     'brandedFare': 'BGT',\n",
       "     'class': 'Q',\n",
       "     'includedCheckedBags': {'quantity': 0}},\n",
       "    {'segmentId': '73',\n",
       "     'cabin': 'ECONOMY',\n",
       "     'fareBasis': 'QKBGT1DO',\n",
       "     'brandedFare': 'BGT',\n",
       "     'class': 'Q',\n",
       "     'includedCheckedBags': {'quantity': 0}}]}]}"
      ]
     },
     "execution_count": 24,
     "metadata": {},
     "output_type": "execute_result"
    }
   ],
   "source": [
    "{'type': 'flight-offer',\n",
    " 'id': '1',\n",
    " 'source': 'GDS',\n",
    " 'instantTicketingRequired': False,\n",
    " 'nonHomogeneous': False,\n",
    " 'oneWay': False,\n",
    " 'lastTicketingDate': '2020-07-16',\n",
    " 'numberOfBookableSeats': 9,\n",
    " 'itineraries': [{'duration': 'PT5H10M',\n",
    "                  'segments': [{'departure': {'iataCode': 'YYZ',\n",
    "                                              'terminal': '3',\n",
    "                                              'at': '2020-07-15T19:45:00'},\n",
    "                                'arrival': {'iataCode': 'YVR',\n",
    "                                            'terminal': 'M',\n",
    "                                            'at': '2020-07-15T21:55:00'},\n",
    "                                'carrierCode': 'TS',\n",
    "                                'number': '932',\n",
    "                                'aircraft': {'code': '73H'},\n",
    "                                'operating': {'carrierCode': 'TS'},\n",
    "                                'duration': 'PT5H10M',\n",
    "                                'id': '16',\n",
    "                                'numberOfStops': 0,\n",
    "                                'blacklistedInEU': False}]},\n",
    "                 {'duration': 'PT4H35M',\n",
    "                  'segments': [{'departure': {'iataCode': 'YVR',\n",
    "                                              'terminal': 'M',\n",
    "                                              'at': '2020-07-24T11:00:00'},\n",
    "                                'arrival': {'iataCode': 'YYZ',\n",
    "                                            'terminal': '3',\n",
    "                                            'at': '2020-07-24T18:35:00'},\n",
    "                                'carrierCode': 'TS',\n",
    "                                'number': '931',\n",
    "                                'aircraft': {'code': '73H'},\n",
    "                                'operating': {'carrierCode': 'TS'},\n",
    "                                'duration': 'PT4H35M',\n",
    "                                'id': '73',\n",
    "                                'numberOfStops': 0,\n",
    "                                'blacklistedInEU': False}]}],\n",
    " \n",
    " 'price': {'currency': 'CAD',\n",
    "           'total': '422.88',\n",
    "           'base': '280.00',\n",
    "           'fees': [{'amount': '0.00', 'type': 'SUPPLIER'},\n",
    "                    {'amount': '0.00', 'type': 'TICKETING'}],\n",
    "           'grandTotal': '422.88'},\n",
    " 'pricingOptions': {'fareType': ['PUBLISHED'],\n",
    "                    'includedCheckedBagsOnly': False},\n",
    " 'validatingAirlineCodes': ['TS'],\n",
    " 'travelerPricings': [{'travelerId': '1',\n",
    "                       'fareOption': 'STANDARD',\n",
    "                       'travelerType': 'ADULT',\n",
    "                       'price': {'currency': 'CAD', 'total': '422.88', 'base': '280.00'},\n",
    "                       'fareDetailsBySegment': [{'segmentId': '16',\n",
    "                                                 'cabin': 'ECONOMY',\n",
    "                                                 'fareBasis': 'QKBGT1DO',\n",
    "                                                 'brandedFare': 'BGT',\n",
    "                                                 'class': 'Q',\n",
    "                                                 'includedCheckedBags': {'quantity': 0}},\n",
    "                                                {'segmentId': '73',\n",
    "                                                 'cabin': 'ECONOMY',\n",
    "                                                 'fareBasis': 'QKBGT1DO',\n",
    "                                                 'brandedFare': 'BGT',\n",
    "                                                 'class': 'Q',\n",
    "                                                 'includedCheckedBags': {'quantity': 0}}]}]}"
   ]
  }
 ],
 "metadata": {
  "kernelspec": {
   "display_name": "Python 3",
   "language": "python",
   "name": "python3"
  },
  "language_info": {
   "codemirror_mode": {
    "name": "ipython",
    "version": 3
   },
   "file_extension": ".py",
   "mimetype": "text/x-python",
   "name": "python",
   "nbconvert_exporter": "python",
   "pygments_lexer": "ipython3",
   "version": "3.8.2"
  }
 },
 "nbformat": 4,
 "nbformat_minor": 4
}
